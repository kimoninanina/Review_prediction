{
 "cells": [
  {
   "cell_type": "markdown",
   "metadata": {},
   "source": [
    "# Customer Review Prediction"
   ]
  },
  {
   "cell_type": "markdown",
   "metadata": {},
   "source": [
    "#### Project Overview\n",
    "1. This project is for walking through the __limited__ data to found some insight from it.\n",
    "2. Only 5 features, location_id and review_id are meaningless when building model.\n",
    "3. Here the location can be regarded as place to provide services such as restaurant."
   ]
  },
  {
   "cell_type": "markdown",
   "metadata": {},
   "source": [
    "#### Data Set\n",
    "1. __location_id__: id for a certain location which provide service\n",
    "2. __review_id__: unique id for each review\n",
    "3. __source__: where the review comes from\n",
    "4. __date__: when the review given\n",
    "5. __rating__: the rating of review is between 1 to 5 and 5 is the best."
   ]
  },
  {
   "cell_type": "markdown",
   "metadata": {},
   "source": [
    "#### This project has two parts.\n",
    "1. Build a model to evaluate each location.\n",
    "2. Predict the review for location."
   ]
  },
  {
   "cell_type": "markdown",
   "metadata": {},
   "source": [
    "## Content\n",
    "<ul>\n",
    "<li>[Part 1: Data Overview](#Part-1:-Data-Overview)\n",
    "<li>[Part 2: Compare Review of Locations](#Part-2:-Compare-Review-of-Locations)\n",
    "<li>[Part 3: Create a Formula to Rank All Locations](#Part-3:-Create-a-Formula-to-Rank-All-Locations)\n",
    "<li>[Part 4: Build Predictive Model](#Part-4:-Build-Predictive-Model)\n",
    "</ul>"
   ]
  },
  {
   "cell_type": "markdown",
   "metadata": {},
   "source": [
    "# Part 1: Data Overview"
   ]
  },
  {
   "cell_type": "code",
   "execution_count": 40,
   "metadata": {
    "collapsed": true
   },
   "outputs": [],
   "source": [
    "import pandas as pd\n",
    "import numpy as np\n",
    "import seaborn as sns\n",
    "import matplotlib.pyplot as plt\n",
    "%matplotlib inline\n",
    "import warnings\n",
    "warnings.filterwarnings('ignore')\n",
    "pd.set_option('display.max_columns', None)"
   ]
  },
  {
   "cell_type": "code",
   "execution_count": 41,
   "metadata": {
    "scrolled": true
   },
   "outputs": [
    {
     "data": {
      "text/html": [
       "<div>\n",
       "<style>\n",
       "    .dataframe thead tr:only-child th {\n",
       "        text-align: right;\n",
       "    }\n",
       "\n",
       "    .dataframe thead th {\n",
       "        text-align: left;\n",
       "    }\n",
       "\n",
       "    .dataframe tbody tr th {\n",
       "        vertical-align: top;\n",
       "    }\n",
       "</style>\n",
       "<table border=\"1\" class=\"dataframe\">\n",
       "  <thead>\n",
       "    <tr style=\"text-align: right;\">\n",
       "      <th></th>\n",
       "      <th>location_id</th>\n",
       "      <th>review_id</th>\n",
       "      <th>source</th>\n",
       "      <th>date</th>\n",
       "      <th>rating</th>\n",
       "    </tr>\n",
       "  </thead>\n",
       "  <tbody>\n",
       "    <tr>\n",
       "      <th>0</th>\n",
       "      <td>4962_221</td>\n",
       "      <td>test_1895327047</td>\n",
       "      <td>GOOGLE_PLACES</td>\n",
       "      <td>10/20/15</td>\n",
       "      <td>1.0</td>\n",
       "    </tr>\n",
       "    <tr>\n",
       "      <th>1</th>\n",
       "      <td>4962_221</td>\n",
       "      <td>test_18961550118</td>\n",
       "      <td>FACEBOOK</td>\n",
       "      <td>11/27/17</td>\n",
       "      <td>1.0</td>\n",
       "    </tr>\n",
       "    <tr>\n",
       "      <th>2</th>\n",
       "      <td>4962_221</td>\n",
       "      <td>test_2044312531</td>\n",
       "      <td>FACEBOOK</td>\n",
       "      <td>11/15/17</td>\n",
       "      <td>1.0</td>\n",
       "    </tr>\n",
       "    <tr>\n",
       "      <th>3</th>\n",
       "      <td>4962_221</td>\n",
       "      <td>test_21399832280</td>\n",
       "      <td>FACEBOOK</td>\n",
       "      <td>7/17/17</td>\n",
       "      <td>1.0</td>\n",
       "    </tr>\n",
       "    <tr>\n",
       "      <th>4</th>\n",
       "      <td>4962_221</td>\n",
       "      <td>test_21516225526</td>\n",
       "      <td>FACEBOOK</td>\n",
       "      <td>1/11/16</td>\n",
       "      <td>1.0</td>\n",
       "    </tr>\n",
       "  </tbody>\n",
       "</table>\n",
       "</div>"
      ],
      "text/plain": [
       "  location_id         review_id         source      date  rating\n",
       "0    4962_221   test_1895327047  GOOGLE_PLACES  10/20/15     1.0\n",
       "1    4962_221  test_18961550118       FACEBOOK  11/27/17     1.0\n",
       "2    4962_221   test_2044312531       FACEBOOK  11/15/17     1.0\n",
       "3    4962_221  test_21399832280       FACEBOOK   7/17/17     1.0\n",
       "4    4962_221  test_21516225526       FACEBOOK   1/11/16     1.0"
      ]
     },
     "execution_count": 41,
     "metadata": {},
     "output_type": "execute_result"
    }
   ],
   "source": [
    "df = pd.read_csv(\"reviews.csv\")\n",
    "df.head(5)"
   ]
  },
  {
   "cell_type": "code",
   "execution_count": 42,
   "metadata": {
    "scrolled": true
   },
   "outputs": [
    {
     "data": {
      "text/html": [
       "<div>\n",
       "<style>\n",
       "    .dataframe thead tr:only-child th {\n",
       "        text-align: right;\n",
       "    }\n",
       "\n",
       "    .dataframe thead th {\n",
       "        text-align: left;\n",
       "    }\n",
       "\n",
       "    .dataframe tbody tr th {\n",
       "        vertical-align: top;\n",
       "    }\n",
       "</style>\n",
       "<table border=\"1\" class=\"dataframe\">\n",
       "  <thead>\n",
       "    <tr style=\"text-align: right;\">\n",
       "      <th></th>\n",
       "      <th>rating</th>\n",
       "    </tr>\n",
       "  </thead>\n",
       "  <tbody>\n",
       "    <tr>\n",
       "      <th>count</th>\n",
       "      <td>179276.000000</td>\n",
       "    </tr>\n",
       "    <tr>\n",
       "      <th>mean</th>\n",
       "      <td>4.413959</td>\n",
       "    </tr>\n",
       "    <tr>\n",
       "      <th>std</th>\n",
       "      <td>1.273551</td>\n",
       "    </tr>\n",
       "    <tr>\n",
       "      <th>min</th>\n",
       "      <td>1.000000</td>\n",
       "    </tr>\n",
       "    <tr>\n",
       "      <th>25%</th>\n",
       "      <td>5.000000</td>\n",
       "    </tr>\n",
       "    <tr>\n",
       "      <th>50%</th>\n",
       "      <td>5.000000</td>\n",
       "    </tr>\n",
       "    <tr>\n",
       "      <th>75%</th>\n",
       "      <td>5.000000</td>\n",
       "    </tr>\n",
       "    <tr>\n",
       "      <th>max</th>\n",
       "      <td>5.000000</td>\n",
       "    </tr>\n",
       "  </tbody>\n",
       "</table>\n",
       "</div>"
      ],
      "text/plain": [
       "              rating\n",
       "count  179276.000000\n",
       "mean        4.413959\n",
       "std         1.273551\n",
       "min         1.000000\n",
       "25%         5.000000\n",
       "50%         5.000000\n",
       "75%         5.000000\n",
       "max         5.000000"
      ]
     },
     "execution_count": 42,
     "metadata": {},
     "output_type": "execute_result"
    }
   ],
   "source": [
    "df.describe() ## Only evaluate numerical values."
   ]
  },
  {
   "cell_type": "code",
   "execution_count": 43,
   "metadata": {},
   "outputs": [
    {
     "name": "stdout",
     "output_type": "stream",
     "text": [
      "Num of rows: 179345\n",
      "Num of columns: 5\n"
     ]
    }
   ],
   "source": [
    "print \"Num of rows: \" + str(df.shape[0]) # row count\n",
    "print \"Num of columns: \" + str(df.shape[1]) # col count"
   ]
  },
  {
   "cell_type": "code",
   "execution_count": 44,
   "metadata": {
    "scrolled": true
   },
   "outputs": [
    {
     "name": "stdout",
     "output_type": "stream",
     "text": [
      "<class 'pandas.core.frame.DataFrame'>\n",
      "RangeIndex: 179345 entries, 0 to 179344\n",
      "Data columns (total 5 columns):\n",
      "location_id    179345 non-null object\n",
      "review_id      179345 non-null object\n",
      "source         179345 non-null object\n",
      "date           179345 non-null object\n",
      "rating         179276 non-null float64\n",
      "dtypes: float64(1), object(4)\n",
      "memory usage: 6.8+ MB\n"
     ]
    }
   ],
   "source": [
    "df.info()"
   ]
  },
  {
   "cell_type": "code",
   "execution_count": 45,
   "metadata": {},
   "outputs": [
    {
     "name": "stdout",
     "output_type": "stream",
     "text": [
      "Num of missing value for rating is: 69\n"
     ]
    }
   ],
   "source": [
    "print \"Num of missing value for rating is: \" + str(df.count()[0] - df.count()[4])"
   ]
  },
  {
   "cell_type": "markdown",
   "metadata": {},
   "source": [
    "# Part 2: Compare Review of Locations"
   ]
  },
  {
   "cell_type": "markdown",
   "metadata": {},
   "source": [
    "### Compare reviews for location 201 and 380"
   ]
  },
  {
   "cell_type": "code",
   "execution_count": 46,
   "metadata": {
    "scrolled": true
   },
   "outputs": [
    {
     "name": "stdout",
     "output_type": "stream",
     "text": [
      "Num of rows for 201: 926\n",
      "Num of missing value for 201 rating: 0\n",
      "Num of rows for 380: 639\n",
      "Num of missing value for 380 rating: 0\n"
     ]
    }
   ],
   "source": [
    "# Before compare check missing values\n",
    "df_201 = df.loc[df[\"location_id\"].isin([\"4962_201\"])]\n",
    "print \"Num of rows for 201: \" + str(df_201.shape[0])\n",
    "print \"Num of missing value for 201 rating: \" + str(df_201[\"rating\"].isnull().sum())\n",
    "df_380 = df.loc[df[\"location_id\"].isin([\"4962_380\"])]\n",
    "print \"Num of rows for 380: \" + str(df_380.shape[0])\n",
    "print \"Num of missing value for 380 rating: \" + str(df_380[\"rating\"].isnull().sum())"
   ]
  },
  {
   "cell_type": "code",
   "execution_count": 47,
   "metadata": {
    "scrolled": true
   },
   "outputs": [
    {
     "data": {
      "image/png": "[encoded data removed]",
      "text/plain": [
       "<matplotlib.figure.Figure at 0x608b940>"
      ]
     },
     "metadata": {},
     "output_type": "display_data"
    }
   ],
   "source": [
    "# Generate bar plots to compare the ratings for these two locations\n",
    "score_201 = df_201[\"rating\"]\n",
    "score_380 = df_380[\"rating\"]\n",
    "legend = [\"201\", \"380\"]\n",
    "plt.hist([score_201, score_380], color=[\"orange\", \"green\"], bins = 5)\n",
    "plt.xlabel(\"Ratings\")\n",
    "plt.ylabel(\"Counts\")\n",
    "plt.legend(legend)\n",
    "plt.xticks(range(1, 6))\n",
    "plt.title(\"Location 201 and 380\\n Rating Distribution\")\n",
    "plt.show()"
   ]
  },
  {
   "cell_type": "code",
   "execution_count": 48,
   "metadata": {
    "scrolled": true
   },
   "outputs": [
    {
     "data": {
      "text/html": [
       "<div>\n",
       "<style>\n",
       "    .dataframe thead tr:only-child th {\n",
       "        text-align: right;\n",
       "    }\n",
       "\n",
       "    .dataframe thead th {\n",
       "        text-align: left;\n",
       "    }\n",
       "\n",
       "    .dataframe tbody tr th {\n",
       "        vertical-align: top;\n",
       "    }\n",
       "</style>\n",
       "<table border=\"1\" class=\"dataframe\">\n",
       "  <thead>\n",
       "    <tr style=\"text-align: right;\">\n",
       "      <th></th>\n",
       "      <th>Rating</th>\n",
       "      <th>201</th>\n",
       "      <th>380</th>\n",
       "    </tr>\n",
       "  </thead>\n",
       "  <tbody>\n",
       "    <tr>\n",
       "      <th>0</th>\n",
       "      <td>1.0</td>\n",
       "      <td>3.887689</td>\n",
       "      <td>5.790297</td>\n",
       "    </tr>\n",
       "    <tr>\n",
       "      <th>1</th>\n",
       "      <td>2.0</td>\n",
       "      <td>0.755940</td>\n",
       "      <td>1.095462</td>\n",
       "    </tr>\n",
       "    <tr>\n",
       "      <th>2</th>\n",
       "      <td>3.0</td>\n",
       "      <td>1.187905</td>\n",
       "      <td>1.721440</td>\n",
       "    </tr>\n",
       "    <tr>\n",
       "      <th>3</th>\n",
       "      <td>4.0</td>\n",
       "      <td>4.751620</td>\n",
       "      <td>3.129890</td>\n",
       "    </tr>\n",
       "    <tr>\n",
       "      <th>4</th>\n",
       "      <td>5.0</td>\n",
       "      <td>89.416847</td>\n",
       "      <td>88.262911</td>\n",
       "    </tr>\n",
       "  </tbody>\n",
       "</table>\n",
       "</div>"
      ],
      "text/plain": [
       "   Rating        201        380\n",
       "0     1.0   3.887689   5.790297\n",
       "1     2.0   0.755940   1.095462\n",
       "2     3.0   1.187905   1.721440\n",
       "3     4.0   4.751620   3.129890\n",
       "4     5.0  89.416847  88.262911"
      ]
     },
     "execution_count": 48,
     "metadata": {},
     "output_type": "execute_result"
    }
   ],
   "source": [
    "list_201 = (df_201[\"rating\"].value_counts(normalize=True) * 100).sort_index()\n",
    "list_380 = (df_380[\"rating\"].value_counts(normalize=True) * 100).sort_index()\n",
    "pd.DataFrame({\"201\": list_201, \"380\": list_380}).reset_index().rename(index = str, columns = {\"index\": \"Rating\"})"
   ]
  },
  {
   "cell_type": "markdown",
   "metadata": {},
   "source": [
    "The table above shows the precentage of each category for each location. <br>\n",
    "We can see location 201 has more 4 and 5 stars and less 1 and 2 and 3 stars than 380.<br>\n",
    "From this perspective, conclusion could be __location 201 has better service than 380__."
   ]
  },
  {
   "cell_type": "markdown",
   "metadata": {},
   "source": [
    "### Compare reviews for location 381 and 915."
   ]
  },
  {
   "cell_type": "code",
   "execution_count": 49,
   "metadata": {},
   "outputs": [
    {
     "name": "stdout",
     "output_type": "stream",
     "text": [
      "Num of rows for 381: 559\n",
      "Num of missing value for 381 rating: 0\n",
      "Num of rows for 915: 521\n",
      "Num of missing value for 915 rating: 0\n"
     ]
    }
   ],
   "source": [
    "df_381 = df.loc[df[\"location_id\"].isin([\"4962_381\"])]\n",
    "print \"Num of rows for 381: \" + str(df_381.shape[0])\n",
    "print \"Num of missing value for 381 rating: \" + str(df_381[\"rating\"].isnull().sum())\n",
    "df_915 = df.loc[df[\"location_id\"].isin([\"4962_915\"])]\n",
    "print \"Num of rows for 915: \" + str(df_915.shape[0])\n",
    "print \"Num of missing value for 915 rating: \" + str(df_915[\"rating\"].isnull().sum())"
   ]
  },
  {
   "cell_type": "code",
   "execution_count": 50,
   "metadata": {},
   "outputs": [
    {
     "data": {
      "image/png": "[encoded data removed]",
      "text/plain": [
       "<matplotlib.figure.Figure at 0x121b4c18>"
      ]
     },
     "metadata": {},
     "output_type": "display_data"
    }
   ],
   "source": [
    "score_381 = df_381[\"rating\"]\n",
    "score_915 = df_915[\"rating\"]\n",
    "legend = [\"381\", \"915\"]\n",
    "plt.hist([score_381, score_915], color=[\"orange\", \"green\"], bins = 5)\n",
    "plt.xlabel(\"Ratings\")\n",
    "plt.ylabel(\"Counts\")\n",
    "plt.legend(legend)\n",
    "plt.xticks(range(1, 6))\n",
    "plt.title(\"Location 381 and 915\\n Rating Distribution\")\n",
    "plt.show()"
   ]
  },
  {
   "cell_type": "code",
   "execution_count": 51,
   "metadata": {
    "scrolled": true
   },
   "outputs": [
    {
     "data": {
      "text/html": [
       "<div>\n",
       "<style>\n",
       "    .dataframe thead tr:only-child th {\n",
       "        text-align: right;\n",
       "    }\n",
       "\n",
       "    .dataframe thead th {\n",
       "        text-align: left;\n",
       "    }\n",
       "\n",
       "    .dataframe tbody tr th {\n",
       "        vertical-align: top;\n",
       "    }\n",
       "</style>\n",
       "<table border=\"1\" class=\"dataframe\">\n",
       "  <thead>\n",
       "    <tr style=\"text-align: right;\">\n",
       "      <th></th>\n",
       "      <th>Rating</th>\n",
       "      <th>381</th>\n",
       "      <th>915</th>\n",
       "    </tr>\n",
       "  </thead>\n",
       "  <tbody>\n",
       "    <tr>\n",
       "      <th>0</th>\n",
       "      <td>1.0</td>\n",
       "      <td>7.692308</td>\n",
       "      <td>5.758157</td>\n",
       "    </tr>\n",
       "    <tr>\n",
       "      <th>1</th>\n",
       "      <td>2.0</td>\n",
       "      <td>1.252236</td>\n",
       "      <td>1.535509</td>\n",
       "    </tr>\n",
       "    <tr>\n",
       "      <th>2</th>\n",
       "      <td>3.0</td>\n",
       "      <td>1.610018</td>\n",
       "      <td>1.343570</td>\n",
       "    </tr>\n",
       "    <tr>\n",
       "      <th>3</th>\n",
       "      <td>4.0</td>\n",
       "      <td>6.797853</td>\n",
       "      <td>6.717850</td>\n",
       "    </tr>\n",
       "    <tr>\n",
       "      <th>4</th>\n",
       "      <td>5.0</td>\n",
       "      <td>82.647585</td>\n",
       "      <td>84.644914</td>\n",
       "    </tr>\n",
       "  </tbody>\n",
       "</table>\n",
       "</div>"
      ],
      "text/plain": [
       "   Rating        381        915\n",
       "0     1.0   7.692308   5.758157\n",
       "1     2.0   1.252236   1.535509\n",
       "2     3.0   1.610018   1.343570\n",
       "3     4.0   6.797853   6.717850\n",
       "4     5.0  82.647585  84.644914"
      ]
     },
     "execution_count": 51,
     "metadata": {},
     "output_type": "execute_result"
    }
   ],
   "source": [
    "list_381 = (df_381[\"rating\"].value_counts(normalize=True) * 100).sort_index()\n",
    "list_915 = (df_915[\"rating\"].value_counts(normalize=True) * 100).sort_index()\n",
    "pd.DataFrame({\"381\": list_381, \"915\": list_915}).reset_index().rename(index = str, columns = {\"index\": \"Rating\"})"
   ]
  },
  {
   "cell_type": "markdown",
   "metadata": {},
   "source": [
    "#### Same idea as previous comparsion\n",
    "The table above shows the precentage of each category for each location. <br>\n",
    "We can see location 915 has more 4 and 5 stars and less 1 and 2 and 3 stars than 381.<br>\n",
    "From this perspective, conclusion could be __location 915 has better service than 381__."
   ]
  },
  {
   "cell_type": "markdown",
   "metadata": {},
   "source": [
    "# Part 3: Create a Formula to Rank All Locations"
   ]
  },
  {
   "cell_type": "markdown",
   "metadata": {},
   "source": [
    "### 3.1 Deal with missing value"
   ]
  },
  {
   "cell_type": "code",
   "execution_count": 52,
   "metadata": {},
   "outputs": [
    {
     "data": {
      "text/plain": [
       "4962_221    51\n",
       "4962_147    15\n",
       "4962_185     3\n",
       "Name: location_id, dtype: int64"
      ]
     },
     "execution_count": 52,
     "metadata": {},
     "output_type": "execute_result"
    }
   ],
   "source": [
    "df_na = df[df[\"rating\"].isnull()]\n",
    "df_na[\"location_id\"].value_counts()"
   ]
  },
  {
   "cell_type": "code",
   "execution_count": 53,
   "metadata": {},
   "outputs": [
    {
     "name": "stdout",
     "output_type": "stream",
     "text": [
      "171\n",
      "77\n",
      "15\n"
     ]
    }
   ],
   "source": [
    "loc_na = ['4962_221', '4962_147', '4962_185']\n",
    "for i in loc_na:\n",
    "    print sum(df[\"location_id\"] == i)"
   ]
  },
  {
   "cell_type": "code",
   "execution_count": 54,
   "metadata": {
    "scrolled": true
   },
   "outputs": [
    {
     "data": {
      "text/html": [
       "<div>\n",
       "<style>\n",
       "    .dataframe thead tr:only-child th {\n",
       "        text-align: right;\n",
       "    }\n",
       "\n",
       "    .dataframe thead th {\n",
       "        text-align: left;\n",
       "    }\n",
       "\n",
       "    .dataframe tbody tr th {\n",
       "        vertical-align: top;\n",
       "    }\n",
       "</style>\n",
       "<table border=\"1\" class=\"dataframe\">\n",
       "  <thead>\n",
       "    <tr style=\"text-align: right;\">\n",
       "      <th></th>\n",
       "      <th>loc</th>\n",
       "      <th>na</th>\n",
       "      <th>totl</th>\n",
       "    </tr>\n",
       "  </thead>\n",
       "  <tbody>\n",
       "    <tr>\n",
       "      <th>0</th>\n",
       "      <td>221</td>\n",
       "      <td>51</td>\n",
       "      <td>171</td>\n",
       "    </tr>\n",
       "    <tr>\n",
       "      <th>1</th>\n",
       "      <td>147</td>\n",
       "      <td>15</td>\n",
       "      <td>77</td>\n",
       "    </tr>\n",
       "    <tr>\n",
       "      <th>2</th>\n",
       "      <td>185</td>\n",
       "      <td>3</td>\n",
       "      <td>15</td>\n",
       "    </tr>\n",
       "  </tbody>\n",
       "</table>\n",
       "</div>"
      ],
      "text/plain": [
       "   loc  na  totl\n",
       "0  221  51   171\n",
       "1  147  15    77\n",
       "2  185   3    15"
      ]
     },
     "execution_count": 54,
     "metadata": {},
     "output_type": "execute_result"
    }
   ],
   "source": [
    "# Build a DataFrame to show number of NA and total number of records for the locations which has NA\n",
    "na = pd.DataFrame({\"loc\": [221, 147, 185], \"na\": [51, 15, 3], \"totl\": [171, 77, 15]})\n",
    "na"
   ]
  },
  {
   "cell_type": "code",
   "execution_count": 55,
   "metadata": {},
   "outputs": [
    {
     "data": {
      "image/png": "[encoded data removed]",
      "text/plain": [
       "<matplotlib.figure.Figure at 0x121c9a58>"
      ]
     },
     "metadata": {},
     "output_type": "display_data"
    }
   ],
   "source": [
    "# Histogram can not deal with NA\n",
    "# After remove the NA, draw a distribution for the whole ratings.\n",
    "plt.hist(df.dropna()[\"rating\"])\n",
    "plt.xlabel(\"rates\")\n",
    "plt.ylabel(\"counts\")\n",
    "plt.xticks(range(1, 6))\n",
    "plt.title(\"Total Rate Distr\")\n",
    "plt.show()"
   ]
  },
  {
   "cell_type": "code",
   "execution_count": 56,
   "metadata": {
    "scrolled": true
   },
   "outputs": [
    {
     "data": {
      "text/plain": [
       "count    179276.000000\n",
       "mean          4.413959\n",
       "std           1.273551\n",
       "min           1.000000\n",
       "25%           5.000000\n",
       "50%           5.000000\n",
       "75%           5.000000\n",
       "max           5.000000\n",
       "Name: rating, dtype: float64"
      ]
     },
     "execution_count": 56,
     "metadata": {},
     "output_type": "execute_result"
    }
   ],
   "source": [
    "df[\"rating\"].describe()"
   ]
  },
  {
   "cell_type": "markdown",
   "metadata": {},
   "source": [
    "### The method here to deal with the missing value is just to remove them.  Reasons are\n",
    "1. The distribution of the whole rating is highly skewed more ratings occur at 5 stars. Based on the distribution a great amount of value would be designate to be 5 by assuming we will use mean or median to replace the missing values.\n",
    "2. We can check the other info such as review platform and calculate the average of this review platform then fill the NA with this average, such as all the NA for location 211 from FaceBook, we can give the mean value of FaceBook to the NA of 211. However, the skewed data would give value very close to 5 and this is not a good option.\n",
    "3. The Model for evaluating each location is based on more pushiment for reviews of 1, 2 and 3 stars. The exact method explained below. __(Not just simple average weight)__"
   ]
  },
  {
   "cell_type": "markdown",
   "metadata": {},
   "source": [
    "### 3.2 Mehods of calculating the review for each location.\n",
    "1. The formula is                          $$((precentage of 4 &5 ) - (precentage of 1 & 2 & 3) )* 5$$\n",
    "<br>\n",
    "2. For this dataset, the domain knowledge can't work as there is no infomation about what service each location provide, restaruants? online purchase providers? or something else. \n",
    "3. The reviews have a trend for higher review, which means reviewers too generous to give bad feedbacks. Thus, each negative feedback means they really don't like the services for any reasons. __I will give strong penalty to those reviews__.\n",
    "4. I decided to tramsform this 5-star rating system to an upvote and downvote rating system. 1, 2, 3 stars are represent downvote and 4, 5 stars designate as upvotes. \n",
    "5. There are 2 situations need to be consider to see whether this model reasonable or not.\n",
    "> 5.1: More precentage of 4 and 5 with less precentage of 1,2 and 3. After apply the above formula, it will have a __higher__ rank. <br>\n",
    "> 5.2: Less precentage of 4 and 5 with more precentage of 1,2 and 3. After apply the above formula, it will have a  __lower__ rank.\n",
    "<br>\n",
    "6. Model evaluate should be conducted after obtaining the results. The examples from las two parts would be used."
   ]
  },
  {
   "cell_type": "code",
   "execution_count": 57,
   "metadata": {
    "collapsed": true
   },
   "outputs": [],
   "source": [
    "# build a list to contain all locations. For these location_ids are not ordered, can't do inplace, more time spend if sort.\n",
    "# ls for holding all unique location\n",
    "ls = []\n",
    "for i in xrange(len(df)):\n",
    "    if df.loc[i][0] in ls:\n",
    "        continue\n",
    "    else:\n",
    "        ls.append(df.loc[i][0])"
   ]
  },
  {
   "cell_type": "code",
   "execution_count": 58,
   "metadata": {
    "scrolled": true
   },
   "outputs": [
    {
     "data": {
      "text/html": [
       "<div>\n",
       "<style>\n",
       "    .dataframe thead tr:only-child th {\n",
       "        text-align: right;\n",
       "    }\n",
       "\n",
       "    .dataframe thead th {\n",
       "        text-align: left;\n",
       "    }\n",
       "\n",
       "    .dataframe tbody tr th {\n",
       "        vertical-align: top;\n",
       "    }\n",
       "</style>\n",
       "<table border=\"1\" class=\"dataframe\">\n",
       "  <thead>\n",
       "    <tr style=\"text-align: right;\">\n",
       "      <th></th>\n",
       "      <th>location_id</th>\n",
       "      <th>rating</th>\n",
       "    </tr>\n",
       "  </thead>\n",
       "  <tbody>\n",
       "    <tr>\n",
       "      <th>0</th>\n",
       "      <td>4962_221</td>\n",
       "      <td>3.916667</td>\n",
       "    </tr>\n",
       "    <tr>\n",
       "      <th>1</th>\n",
       "      <td>4962_147</td>\n",
       "      <td>3.387097</td>\n",
       "    </tr>\n",
       "    <tr>\n",
       "      <th>2</th>\n",
       "      <td>4962_185</td>\n",
       "      <td>4.166667</td>\n",
       "    </tr>\n",
       "    <tr>\n",
       "      <th>3</th>\n",
       "      <td>4962_930</td>\n",
       "      <td>4.107505</td>\n",
       "    </tr>\n",
       "    <tr>\n",
       "      <th>4</th>\n",
       "      <td>4962_669</td>\n",
       "      <td>3.826135</td>\n",
       "    </tr>\n",
       "    <tr>\n",
       "      <th>5</th>\n",
       "      <td>4962_934</td>\n",
       "      <td>0.931990</td>\n",
       "    </tr>\n",
       "    <tr>\n",
       "      <th>6</th>\n",
       "      <td>4962_908</td>\n",
       "      <td>4.560284</td>\n",
       "    </tr>\n",
       "    <tr>\n",
       "      <th>7</th>\n",
       "      <td>4962_893</td>\n",
       "      <td>2.514061</td>\n",
       "    </tr>\n",
       "    <tr>\n",
       "      <th>8</th>\n",
       "      <td>4962_748</td>\n",
       "      <td>2.242921</td>\n",
       "    </tr>\n",
       "    <tr>\n",
       "      <th>9</th>\n",
       "      <td>4962_472</td>\n",
       "      <td>3.767396</td>\n",
       "    </tr>\n",
       "  </tbody>\n",
       "</table>\n",
       "</div>"
      ],
      "text/plain": [
       "  location_id    rating\n",
       "0    4962_221  3.916667\n",
       "1    4962_147  3.387097\n",
       "2    4962_185  4.166667\n",
       "3    4962_930  4.107505\n",
       "4    4962_669  3.826135\n",
       "5    4962_934  0.931990\n",
       "6    4962_908  4.560284\n",
       "7    4962_893  2.514061\n",
       "8    4962_748  2.242921\n",
       "9    4962_472  3.767396"
      ]
     },
     "execution_count": 58,
     "metadata": {},
     "output_type": "execute_result"
    }
   ],
   "source": [
    "# Based on previous model, make summary of review for each location\n",
    "ls_rnk = []\n",
    "for i in xrange(len(ls)):\n",
    "    loc_id = df.loc[df[\"location_id\"].isin([ls[i]])]\n",
    "    rts = loc_id[\"rating\"].value_counts(normalize = True, dropna = True)\n",
    "    tmp = pd.Series([0, 0, 0, 0, 0], index = [1, 2, 3, 4, 5])\n",
    "    rts = rts.add(tmp, fill_value = 0)  ## In case of wrong reference if any rate not exist for certain location\n",
    "    rnk = ((rts[4]+rts[5]) - (rts[1]+rts[2]+rts[3]))*5\n",
    "    ls_rnk.append((ls[i], rnk))\n",
    "ranks = pd.DataFrame(ls_rnk, columns = [\"location_id\", \"rating\"])\n",
    "ranks.head(10)"
   ]
  },
  {
   "cell_type": "markdown",
   "metadata": {},
   "source": [
    "The above result is final rating for each location. Just see 10 of them.<br>\n",
    "The whole result is restored as __ranks__ DataFrame"
   ]
  },
  {
   "cell_type": "code",
   "execution_count": 59,
   "metadata": {
    "collapsed": true
   },
   "outputs": [],
   "source": [
    "# Export to csv file\n",
    "ranks.to_csv('location_ranks.csv')"
   ]
  },
  {
   "cell_type": "markdown",
   "metadata": {},
   "source": [
    "There are total 252 unique locations are rated, stored and exported as 'location_ranks' csv file"
   ]
  },
  {
   "cell_type": "markdown",
   "metadata": {},
   "source": [
    "### 3.3 Model Validation\n",
    "1. Evaluate location 201 and 380 with model.\n",
    "2. Evaluate location 381 and 915 with model."
   ]
  },
  {
   "cell_type": "code",
   "execution_count": 60,
   "metadata": {},
   "outputs": [
    {
     "data": {
      "text/html": [
       "<div>\n",
       "<style>\n",
       "    .dataframe thead tr:only-child th {\n",
       "        text-align: right;\n",
       "    }\n",
       "\n",
       "    .dataframe thead th {\n",
       "        text-align: left;\n",
       "    }\n",
       "\n",
       "    .dataframe tbody tr th {\n",
       "        vertical-align: top;\n",
       "    }\n",
       "</style>\n",
       "<table border=\"1\" class=\"dataframe\">\n",
       "  <thead>\n",
       "    <tr style=\"text-align: right;\">\n",
       "      <th></th>\n",
       "      <th>location_id</th>\n",
       "      <th>rating</th>\n",
       "    </tr>\n",
       "  </thead>\n",
       "  <tbody>\n",
       "    <tr>\n",
       "      <th>51</th>\n",
       "      <td>4962_201</td>\n",
       "      <td>4.416847</td>\n",
       "    </tr>\n",
       "  </tbody>\n",
       "</table>\n",
       "</div>"
      ],
      "text/plain": [
       "   location_id    rating\n",
       "51    4962_201  4.416847"
      ]
     },
     "execution_count": 60,
     "metadata": {},
     "output_type": "execute_result"
    }
   ],
   "source": [
    "ranks.loc[ranks[\"location_id\"].isin([\"4962_201\"])]"
   ]
  },
  {
   "cell_type": "code",
   "execution_count": 61,
   "metadata": {},
   "outputs": [
    {
     "data": {
      "text/html": [
       "<div>\n",
       "<style>\n",
       "    .dataframe thead tr:only-child th {\n",
       "        text-align: right;\n",
       "    }\n",
       "\n",
       "    .dataframe thead th {\n",
       "        text-align: left;\n",
       "    }\n",
       "\n",
       "    .dataframe tbody tr th {\n",
       "        vertical-align: top;\n",
       "    }\n",
       "</style>\n",
       "<table border=\"1\" class=\"dataframe\">\n",
       "  <thead>\n",
       "    <tr style=\"text-align: right;\">\n",
       "      <th></th>\n",
       "      <th>location_id</th>\n",
       "      <th>rating</th>\n",
       "    </tr>\n",
       "  </thead>\n",
       "  <tbody>\n",
       "    <tr>\n",
       "      <th>81</th>\n",
       "      <td>4962_380</td>\n",
       "      <td>4.13928</td>\n",
       "    </tr>\n",
       "  </tbody>\n",
       "</table>\n",
       "</div>"
      ],
      "text/plain": [
       "   location_id   rating\n",
       "81    4962_380  4.13928"
      ]
     },
     "execution_count": 61,
     "metadata": {},
     "output_type": "execute_result"
    }
   ],
   "source": [
    "ranks.loc[ranks[\"location_id\"].isin([\"4962_380\"])]"
   ]
  },
  {
   "cell_type": "markdown",
   "metadata": {},
   "source": [
    "__This result is consistence with what have found before__"
   ]
  },
  {
   "cell_type": "code",
   "execution_count": 62,
   "metadata": {},
   "outputs": [
    {
     "data": {
      "text/html": [
       "<div>\n",
       "<style>\n",
       "    .dataframe thead tr:only-child th {\n",
       "        text-align: right;\n",
       "    }\n",
       "\n",
       "    .dataframe thead th {\n",
       "        text-align: left;\n",
       "    }\n",
       "\n",
       "    .dataframe tbody tr th {\n",
       "        vertical-align: top;\n",
       "    }\n",
       "</style>\n",
       "<table border=\"1\" class=\"dataframe\">\n",
       "  <thead>\n",
       "    <tr style=\"text-align: right;\">\n",
       "      <th></th>\n",
       "      <th>location_id</th>\n",
       "      <th>rating</th>\n",
       "    </tr>\n",
       "  </thead>\n",
       "  <tbody>\n",
       "    <tr>\n",
       "      <th>119</th>\n",
       "      <td>4962_381</td>\n",
       "      <td>3.944544</td>\n",
       "    </tr>\n",
       "  </tbody>\n",
       "</table>\n",
       "</div>"
      ],
      "text/plain": [
       "    location_id    rating\n",
       "119    4962_381  3.944544"
      ]
     },
     "execution_count": 62,
     "metadata": {},
     "output_type": "execute_result"
    }
   ],
   "source": [
    "ranks.loc[ranks[\"location_id\"].isin([\"4962_381\"])]"
   ]
  },
  {
   "cell_type": "code",
   "execution_count": 63,
   "metadata": {},
   "outputs": [
    {
     "data": {
      "text/html": [
       "<div>\n",
       "<style>\n",
       "    .dataframe thead tr:only-child th {\n",
       "        text-align: right;\n",
       "    }\n",
       "\n",
       "    .dataframe thead th {\n",
       "        text-align: left;\n",
       "    }\n",
       "\n",
       "    .dataframe tbody tr th {\n",
       "        vertical-align: top;\n",
       "    }\n",
       "</style>\n",
       "<table border=\"1\" class=\"dataframe\">\n",
       "  <thead>\n",
       "    <tr style=\"text-align: right;\">\n",
       "      <th></th>\n",
       "      <th>location_id</th>\n",
       "      <th>rating</th>\n",
       "    </tr>\n",
       "  </thead>\n",
       "  <tbody>\n",
       "    <tr>\n",
       "      <th>245</th>\n",
       "      <td>4962_915</td>\n",
       "      <td>4.136276</td>\n",
       "    </tr>\n",
       "  </tbody>\n",
       "</table>\n",
       "</div>"
      ],
      "text/plain": [
       "    location_id    rating\n",
       "245    4962_915  4.136276"
      ]
     },
     "execution_count": 63,
     "metadata": {},
     "output_type": "execute_result"
    }
   ],
   "source": [
    "ranks.loc[ranks[\"location_id\"].isin([\"4962_915\"])]"
   ]
  },
  {
   "cell_type": "markdown",
   "metadata": {
    "collapsed": true
   },
   "source": [
    "__This result is consistence with what have found before__"
   ]
  },
  {
   "cell_type": "markdown",
   "metadata": {
    "collapsed": true
   },
   "source": [
    "### 3.4 Further analysis"
   ]
  },
  {
   "cell_type": "markdown",
   "metadata": {},
   "source": [
    "#### More Datasets\n",
    "1. User description such as Age, Gender, Occupation, Education, etc.\n",
    "2. User review attitude, more generous or not.\n",
    "3. User review descriptions. Use NLP methods.\n",
    "4. location description such as how long this service served, users' average waiting time, how long the shippment time, etc.\n",
    "5. More data will give more information but come with noises. \n",
    "6. The budget also counts if want to collect more data and more detailed discovery. "
   ]
  },
  {
   "cell_type": "markdown",
   "metadata": {},
   "source": [
    "# Part 4: Build Predictive Model"
   ]
  },
  {
   "cell_type": "markdown",
   "metadata": {},
   "source": [
    "### 4.1 Take a look at test_review file\n",
    "1. The test_review file is used for make prediction on ratings for each observations.\n",
    "2. We need to look at it to make sure all the feature are consistent with training data."
   ]
  },
  {
   "cell_type": "code",
   "execution_count": 64,
   "metadata": {},
   "outputs": [
    {
     "data": {
      "text/html": [
       "<div>\n",
       "<style>\n",
       "    .dataframe thead tr:only-child th {\n",
       "        text-align: right;\n",
       "    }\n",
       "\n",
       "    .dataframe thead th {\n",
       "        text-align: left;\n",
       "    }\n",
       "\n",
       "    .dataframe tbody tr th {\n",
       "        vertical-align: top;\n",
       "    }\n",
       "</style>\n",
       "<table border=\"1\" class=\"dataframe\">\n",
       "  <thead>\n",
       "    <tr style=\"text-align: right;\">\n",
       "      <th></th>\n",
       "      <th>location_id</th>\n",
       "      <th>review_id</th>\n",
       "      <th>source</th>\n",
       "      <th>date</th>\n",
       "      <th>rating</th>\n",
       "    </tr>\n",
       "  </thead>\n",
       "  <tbody>\n",
       "    <tr>\n",
       "      <th>0</th>\n",
       "      <td>4962_147</td>\n",
       "      <td>test_10368849285</td>\n",
       "      <td>FACEBOOK</td>\n",
       "      <td>12/4/15</td>\n",
       "      <td>NaN</td>\n",
       "    </tr>\n",
       "    <tr>\n",
       "      <th>1</th>\n",
       "      <td>4962_147</td>\n",
       "      <td>test_1042394214</td>\n",
       "      <td>FACEBOOK</td>\n",
       "      <td>11/29/16</td>\n",
       "      <td>NaN</td>\n",
       "    </tr>\n",
       "    <tr>\n",
       "      <th>2</th>\n",
       "      <td>4962_185</td>\n",
       "      <td>test_11322162891</td>\n",
       "      <td>GOOGLE_PLACES</td>\n",
       "      <td>8/3/16</td>\n",
       "      <td>NaN</td>\n",
       "    </tr>\n",
       "    <tr>\n",
       "      <th>3</th>\n",
       "      <td>4962_185</td>\n",
       "      <td>test_11324660949</td>\n",
       "      <td>GOOGLE_PLACES</td>\n",
       "      <td>2/3/18</td>\n",
       "      <td>NaN</td>\n",
       "    </tr>\n",
       "    <tr>\n",
       "      <th>4</th>\n",
       "      <td>4962_185</td>\n",
       "      <td>test_11348252095</td>\n",
       "      <td>GOOGLE_PLACES</td>\n",
       "      <td>2/12/16</td>\n",
       "      <td>NaN</td>\n",
       "    </tr>\n",
       "  </tbody>\n",
       "</table>\n",
       "</div>"
      ],
      "text/plain": [
       "  location_id         review_id         source      date  rating\n",
       "0    4962_147  test_10368849285       FACEBOOK   12/4/15     NaN\n",
       "1    4962_147   test_1042394214       FACEBOOK  11/29/16     NaN\n",
       "2    4962_185  test_11322162891  GOOGLE_PLACES    8/3/16     NaN\n",
       "3    4962_185  test_11324660949  GOOGLE_PLACES    2/3/18     NaN\n",
       "4    4962_185  test_11348252095  GOOGLE_PLACES   2/12/16     NaN"
      ]
     },
     "execution_count": 64,
     "metadata": {},
     "output_type": "execute_result"
    }
   ],
   "source": [
    "test = pd.read_csv(\"test_reviews.csv\")\n",
    "test.head(5)"
   ]
  },
  {
   "cell_type": "code",
   "execution_count": 65,
   "metadata": {},
   "outputs": [
    {
     "data": {
      "text/plain": [
       "['4962_147', '4962_185', '4962_221', '4962_442', nan]"
      ]
     },
     "execution_count": 65,
     "metadata": {},
     "output_type": "execute_result"
    }
   ],
   "source": [
    "# Find all the locations for the test_review file\n",
    "location_id = []\n",
    "for i in xrange(len(test)):\n",
    "    place = test.loc[i][0]\n",
    "    if place not in location_id:\n",
    "        location_id.append(place)\n",
    "location_id"
   ]
  },
  {
   "cell_type": "code",
   "execution_count": 66,
   "metadata": {},
   "outputs": [
    {
     "data": {
      "text/plain": [
       "['4962_147', '4962_185', '4962_221', '4962_442']"
      ]
     },
     "execution_count": 66,
     "metadata": {},
     "output_type": "execute_result"
    }
   ],
   "source": [
    "location_id.pop()\n",
    "location_id"
   ]
  },
  {
   "cell_type": "code",
   "execution_count": 67,
   "metadata": {},
   "outputs": [
    {
     "data": {
      "text/html": [
       "<div>\n",
       "<style>\n",
       "    .dataframe thead tr:only-child th {\n",
       "        text-align: right;\n",
       "    }\n",
       "\n",
       "    .dataframe thead th {\n",
       "        text-align: left;\n",
       "    }\n",
       "\n",
       "    .dataframe tbody tr th {\n",
       "        vertical-align: top;\n",
       "    }\n",
       "</style>\n",
       "<table border=\"1\" class=\"dataframe\">\n",
       "  <thead>\n",
       "    <tr style=\"text-align: right;\">\n",
       "      <th></th>\n",
       "      <th>location_id</th>\n",
       "      <th>review_id</th>\n",
       "      <th>source</th>\n",
       "      <th>date</th>\n",
       "    </tr>\n",
       "  </thead>\n",
       "  <tbody>\n",
       "    <tr>\n",
       "      <th>0</th>\n",
       "      <td>4962_147</td>\n",
       "      <td>test_10368849285</td>\n",
       "      <td>FACEBOOK</td>\n",
       "      <td>12/4/15</td>\n",
       "    </tr>\n",
       "    <tr>\n",
       "      <th>1</th>\n",
       "      <td>4962_147</td>\n",
       "      <td>test_1042394214</td>\n",
       "      <td>FACEBOOK</td>\n",
       "      <td>11/29/16</td>\n",
       "    </tr>\n",
       "    <tr>\n",
       "      <th>2</th>\n",
       "      <td>4962_185</td>\n",
       "      <td>test_11322162891</td>\n",
       "      <td>GOOGLE_PLACES</td>\n",
       "      <td>8/3/16</td>\n",
       "    </tr>\n",
       "    <tr>\n",
       "      <th>3</th>\n",
       "      <td>4962_185</td>\n",
       "      <td>test_11324660949</td>\n",
       "      <td>GOOGLE_PLACES</td>\n",
       "      <td>2/3/18</td>\n",
       "    </tr>\n",
       "    <tr>\n",
       "      <th>4</th>\n",
       "      <td>4962_185</td>\n",
       "      <td>test_11348252095</td>\n",
       "      <td>GOOGLE_PLACES</td>\n",
       "      <td>2/12/16</td>\n",
       "    </tr>\n",
       "  </tbody>\n",
       "</table>\n",
       "</div>"
      ],
      "text/plain": [
       "  location_id         review_id         source      date\n",
       "0    4962_147  test_10368849285       FACEBOOK   12/4/15\n",
       "1    4962_147   test_1042394214       FACEBOOK  11/29/16\n",
       "2    4962_185  test_11322162891  GOOGLE_PLACES    8/3/16\n",
       "3    4962_185  test_11324660949  GOOGLE_PLACES    2/3/18\n",
       "4    4962_185  test_11348252095  GOOGLE_PLACES   2/12/16"
      ]
     },
     "execution_count": 67,
     "metadata": {},
     "output_type": "execute_result"
    }
   ],
   "source": [
    "# Remove rows with NA and Remove rating columns for later prediction\n",
    "test = test.drop([\"rating\"], axis = 1).dropna(axis = 0, how = 'any')\n",
    "test.head()"
   ]
  },
  {
   "cell_type": "markdown",
   "metadata": {},
   "source": [
    "There are 4 locations need to be evaluated for each reviewer. Null rows are removed.<br>"
   ]
  },
  {
   "cell_type": "markdown",
   "metadata": {},
   "source": [
    "### 4.2: Data Preprocessing and Feature Engineering"
   ]
  },
  {
   "cell_type": "markdown",
   "metadata": {},
   "source": [
    "1. Extract the four locations in training dataset. \n",
    "2. Build features for test and train datasets and make sure all the features are consistency for these two datasets\n",
    "3. Location and Source are categorical values need to be encoded.\n",
    "4. Date data can be separated to month and year, there may be some seasonal patterns combine with each location significantly affect the rating.\n",
    "5. Do not need to do Scaling because all independent variables are between 0 and 1 after encoding."
   ]
  },
  {
   "cell_type": "code",
   "execution_count": 68,
   "metadata": {
    "collapsed": true
   },
   "outputs": [],
   "source": [
    "# Create training data set\n",
    "train = df.loc[df[\"location_id\"].isin(location_id)].drop([\"review_id\"], axis = 1).reset_index().drop([\"index\"], axis = 1)"
   ]
  },
  {
   "cell_type": "code",
   "execution_count": 69,
   "metadata": {
    "scrolled": false
   },
   "outputs": [
    {
     "data": {
      "text/html": [
       "<div>\n",
       "<style>\n",
       "    .dataframe thead tr:only-child th {\n",
       "        text-align: right;\n",
       "    }\n",
       "\n",
       "    .dataframe thead th {\n",
       "        text-align: left;\n",
       "    }\n",
       "\n",
       "    .dataframe tbody tr th {\n",
       "        vertical-align: top;\n",
       "    }\n",
       "</style>\n",
       "<table border=\"1\" class=\"dataframe\">\n",
       "  <thead>\n",
       "    <tr style=\"text-align: right;\">\n",
       "      <th></th>\n",
       "      <th>location_id</th>\n",
       "      <th>source</th>\n",
       "      <th>date</th>\n",
       "      <th>rating</th>\n",
       "    </tr>\n",
       "  </thead>\n",
       "  <tbody>\n",
       "    <tr>\n",
       "      <th>0</th>\n",
       "      <td>4962_221</td>\n",
       "      <td>GOOGLE_PLACES</td>\n",
       "      <td>10/20/15</td>\n",
       "      <td>1.0</td>\n",
       "    </tr>\n",
       "    <tr>\n",
       "      <th>1</th>\n",
       "      <td>4962_221</td>\n",
       "      <td>FACEBOOK</td>\n",
       "      <td>11/27/17</td>\n",
       "      <td>1.0</td>\n",
       "    </tr>\n",
       "    <tr>\n",
       "      <th>2</th>\n",
       "      <td>4962_221</td>\n",
       "      <td>FACEBOOK</td>\n",
       "      <td>11/15/17</td>\n",
       "      <td>1.0</td>\n",
       "    </tr>\n",
       "    <tr>\n",
       "      <th>3</th>\n",
       "      <td>4962_221</td>\n",
       "      <td>FACEBOOK</td>\n",
       "      <td>7/17/17</td>\n",
       "      <td>1.0</td>\n",
       "    </tr>\n",
       "    <tr>\n",
       "      <th>4</th>\n",
       "      <td>4962_221</td>\n",
       "      <td>FACEBOOK</td>\n",
       "      <td>1/11/16</td>\n",
       "      <td>1.0</td>\n",
       "    </tr>\n",
       "  </tbody>\n",
       "</table>\n",
       "</div>"
      ],
      "text/plain": [
       "  location_id         source      date  rating\n",
       "0    4962_221  GOOGLE_PLACES  10/20/15     1.0\n",
       "1    4962_221       FACEBOOK  11/27/17     1.0\n",
       "2    4962_221       FACEBOOK  11/15/17     1.0\n",
       "3    4962_221       FACEBOOK   7/17/17     1.0\n",
       "4    4962_221       FACEBOOK   1/11/16     1.0"
      ]
     },
     "execution_count": 69,
     "metadata": {},
     "output_type": "execute_result"
    }
   ],
   "source": [
    "train = train.dropna()\n",
    "train.head(5)"
   ]
  },
  {
   "cell_type": "code",
   "execution_count": 70,
   "metadata": {
    "collapsed": true,
    "scrolled": true
   },
   "outputs": [],
   "source": [
    "# Feature Engineering to build new features which is date related.\n",
    "mon = []\n",
    "year = []\n",
    "for i in xrange(len(train)):\n",
    "    mon.append(str(train.loc[i][2]).split(\"/\")[0])\n",
    "    year.append(str(train.loc[i][2]).split(\"/\")[2])\n",
    "train[\"mon\"] = mon\n",
    "train[\"year\"] = year\n",
    "train = train.drop([\"date\"], axis = 1)"
   ]
  },
  {
   "cell_type": "code",
   "execution_count": 71,
   "metadata": {
    "scrolled": true
   },
   "outputs": [
    {
     "data": {
      "text/html": [
       "<div>\n",
       "<style>\n",
       "    .dataframe thead tr:only-child th {\n",
       "        text-align: right;\n",
       "    }\n",
       "\n",
       "    .dataframe thead th {\n",
       "        text-align: left;\n",
       "    }\n",
       "\n",
       "    .dataframe tbody tr th {\n",
       "        vertical-align: top;\n",
       "    }\n",
       "</style>\n",
       "<table border=\"1\" class=\"dataframe\">\n",
       "  <thead>\n",
       "    <tr style=\"text-align: right;\">\n",
       "      <th></th>\n",
       "      <th>location_id</th>\n",
       "      <th>source</th>\n",
       "      <th>rating</th>\n",
       "      <th>mon</th>\n",
       "      <th>year</th>\n",
       "    </tr>\n",
       "  </thead>\n",
       "  <tbody>\n",
       "    <tr>\n",
       "      <th>0</th>\n",
       "      <td>4962_221</td>\n",
       "      <td>GOOGLE_PLACES</td>\n",
       "      <td>1.0</td>\n",
       "      <td>10</td>\n",
       "      <td>15</td>\n",
       "    </tr>\n",
       "    <tr>\n",
       "      <th>1</th>\n",
       "      <td>4962_221</td>\n",
       "      <td>FACEBOOK</td>\n",
       "      <td>1.0</td>\n",
       "      <td>11</td>\n",
       "      <td>17</td>\n",
       "    </tr>\n",
       "    <tr>\n",
       "      <th>2</th>\n",
       "      <td>4962_221</td>\n",
       "      <td>FACEBOOK</td>\n",
       "      <td>1.0</td>\n",
       "      <td>11</td>\n",
       "      <td>17</td>\n",
       "    </tr>\n",
       "    <tr>\n",
       "      <th>3</th>\n",
       "      <td>4962_221</td>\n",
       "      <td>FACEBOOK</td>\n",
       "      <td>1.0</td>\n",
       "      <td>7</td>\n",
       "      <td>17</td>\n",
       "    </tr>\n",
       "    <tr>\n",
       "      <th>4</th>\n",
       "      <td>4962_221</td>\n",
       "      <td>FACEBOOK</td>\n",
       "      <td>1.0</td>\n",
       "      <td>1</td>\n",
       "      <td>16</td>\n",
       "    </tr>\n",
       "  </tbody>\n",
       "</table>\n",
       "</div>"
      ],
      "text/plain": [
       "  location_id         source  rating mon year\n",
       "0    4962_221  GOOGLE_PLACES     1.0  10   15\n",
       "1    4962_221       FACEBOOK     1.0  11   17\n",
       "2    4962_221       FACEBOOK     1.0  11   17\n",
       "3    4962_221       FACEBOOK     1.0   7   17\n",
       "4    4962_221       FACEBOOK     1.0   1   16"
      ]
     },
     "execution_count": 71,
     "metadata": {},
     "output_type": "execute_result"
    }
   ],
   "source": [
    "train.head()"
   ]
  },
  {
   "cell_type": "code",
   "execution_count": 72,
   "metadata": {
    "collapsed": true
   },
   "outputs": [],
   "source": [
    "# Find X and Y before fit models\n",
    "trainY = train[\"rating\"]\n",
    "trainX = train.drop([\"rating\"], axis = 1)"
   ]
  },
  {
   "cell_type": "code",
   "execution_count": 73,
   "metadata": {},
   "outputs": [
    {
     "name": "stdout",
     "output_type": "stream",
     "text": [
      "(964, 24)\n"
     ]
    }
   ],
   "source": [
    "# Encod the source column to get dummy variables, or we could say transfor the categorical value to numerical ones.\n",
    "trainX = pd.get_dummies(trainX)\n",
    "print trainX.shape"
   ]
  },
  {
   "cell_type": "code",
   "execution_count": 74,
   "metadata": {
    "collapsed": true
   },
   "outputs": [],
   "source": [
    "# Before train model, we need to split the data to train and test ones. test data for evaluation\n",
    "from sklearn.model_selection import train_test_split\n",
    "X_train, X_test, y_train, y_test = train_test_split(trainX, trainY, test_size=0.2, random_state=42)"
   ]
  },
  {
   "cell_type": "code",
   "execution_count": 75,
   "metadata": {
    "scrolled": true
   },
   "outputs": [
    {
     "data": {
      "text/html": [
       "<div>\n",
       "<style>\n",
       "    .dataframe thead tr:only-child th {\n",
       "        text-align: right;\n",
       "    }\n",
       "\n",
       "    .dataframe thead th {\n",
       "        text-align: left;\n",
       "    }\n",
       "\n",
       "    .dataframe tbody tr th {\n",
       "        vertical-align: top;\n",
       "    }\n",
       "</style>\n",
       "<table border=\"1\" class=\"dataframe\">\n",
       "  <thead>\n",
       "    <tr style=\"text-align: right;\">\n",
       "      <th></th>\n",
       "      <th>location_id_4962_147</th>\n",
       "      <th>location_id_4962_185</th>\n",
       "      <th>location_id_4962_221</th>\n",
       "      <th>location_id_4962_442</th>\n",
       "      <th>source_CARS</th>\n",
       "      <th>source_FACEBOOK</th>\n",
       "      <th>source_GOOGLE_PLACES</th>\n",
       "      <th>mon_1</th>\n",
       "      <th>mon_10</th>\n",
       "      <th>mon_11</th>\n",
       "      <th>mon_12</th>\n",
       "      <th>mon_2</th>\n",
       "      <th>mon_3</th>\n",
       "      <th>mon_4</th>\n",
       "      <th>mon_5</th>\n",
       "      <th>mon_6</th>\n",
       "      <th>mon_7</th>\n",
       "      <th>mon_8</th>\n",
       "      <th>mon_9</th>\n",
       "      <th>year_14</th>\n",
       "      <th>year_15</th>\n",
       "      <th>year_16</th>\n",
       "      <th>year_17</th>\n",
       "      <th>year_18</th>\n",
       "    </tr>\n",
       "  </thead>\n",
       "  <tbody>\n",
       "    <tr>\n",
       "      <th>192</th>\n",
       "      <td>0</td>\n",
       "      <td>0</td>\n",
       "      <td>0</td>\n",
       "      <td>1</td>\n",
       "      <td>0</td>\n",
       "      <td>0</td>\n",
       "      <td>1</td>\n",
       "      <td>1</td>\n",
       "      <td>0</td>\n",
       "      <td>0</td>\n",
       "      <td>0</td>\n",
       "      <td>0</td>\n",
       "      <td>0</td>\n",
       "      <td>0</td>\n",
       "      <td>0</td>\n",
       "      <td>0</td>\n",
       "      <td>0</td>\n",
       "      <td>0</td>\n",
       "      <td>0</td>\n",
       "      <td>0</td>\n",
       "      <td>1</td>\n",
       "      <td>0</td>\n",
       "      <td>0</td>\n",
       "      <td>0</td>\n",
       "    </tr>\n",
       "    <tr>\n",
       "      <th>305</th>\n",
       "      <td>1</td>\n",
       "      <td>0</td>\n",
       "      <td>0</td>\n",
       "      <td>0</td>\n",
       "      <td>0</td>\n",
       "      <td>1</td>\n",
       "      <td>0</td>\n",
       "      <td>0</td>\n",
       "      <td>0</td>\n",
       "      <td>0</td>\n",
       "      <td>0</td>\n",
       "      <td>0</td>\n",
       "      <td>0</td>\n",
       "      <td>0</td>\n",
       "      <td>1</td>\n",
       "      <td>0</td>\n",
       "      <td>0</td>\n",
       "      <td>0</td>\n",
       "      <td>0</td>\n",
       "      <td>0</td>\n",
       "      <td>1</td>\n",
       "      <td>0</td>\n",
       "      <td>0</td>\n",
       "      <td>0</td>\n",
       "    </tr>\n",
       "    <tr>\n",
       "      <th>734</th>\n",
       "      <td>0</td>\n",
       "      <td>0</td>\n",
       "      <td>0</td>\n",
       "      <td>1</td>\n",
       "      <td>0</td>\n",
       "      <td>0</td>\n",
       "      <td>1</td>\n",
       "      <td>0</td>\n",
       "      <td>0</td>\n",
       "      <td>0</td>\n",
       "      <td>1</td>\n",
       "      <td>0</td>\n",
       "      <td>0</td>\n",
       "      <td>0</td>\n",
       "      <td>0</td>\n",
       "      <td>0</td>\n",
       "      <td>0</td>\n",
       "      <td>0</td>\n",
       "      <td>0</td>\n",
       "      <td>0</td>\n",
       "      <td>0</td>\n",
       "      <td>0</td>\n",
       "      <td>1</td>\n",
       "      <td>0</td>\n",
       "    </tr>\n",
       "    <tr>\n",
       "      <th>706</th>\n",
       "      <td>0</td>\n",
       "      <td>0</td>\n",
       "      <td>0</td>\n",
       "      <td>1</td>\n",
       "      <td>0</td>\n",
       "      <td>0</td>\n",
       "      <td>1</td>\n",
       "      <td>0</td>\n",
       "      <td>0</td>\n",
       "      <td>0</td>\n",
       "      <td>1</td>\n",
       "      <td>0</td>\n",
       "      <td>0</td>\n",
       "      <td>0</td>\n",
       "      <td>0</td>\n",
       "      <td>0</td>\n",
       "      <td>0</td>\n",
       "      <td>0</td>\n",
       "      <td>0</td>\n",
       "      <td>0</td>\n",
       "      <td>0</td>\n",
       "      <td>0</td>\n",
       "      <td>1</td>\n",
       "      <td>0</td>\n",
       "    </tr>\n",
       "    <tr>\n",
       "      <th>551</th>\n",
       "      <td>0</td>\n",
       "      <td>0</td>\n",
       "      <td>0</td>\n",
       "      <td>1</td>\n",
       "      <td>0</td>\n",
       "      <td>0</td>\n",
       "      <td>1</td>\n",
       "      <td>0</td>\n",
       "      <td>0</td>\n",
       "      <td>0</td>\n",
       "      <td>0</td>\n",
       "      <td>0</td>\n",
       "      <td>0</td>\n",
       "      <td>0</td>\n",
       "      <td>0</td>\n",
       "      <td>0</td>\n",
       "      <td>0</td>\n",
       "      <td>1</td>\n",
       "      <td>0</td>\n",
       "      <td>0</td>\n",
       "      <td>0</td>\n",
       "      <td>1</td>\n",
       "      <td>0</td>\n",
       "      <td>0</td>\n",
       "    </tr>\n",
       "  </tbody>\n",
       "</table>\n",
       "</div>"
      ],
      "text/plain": [
       "     location_id_4962_147  location_id_4962_185  location_id_4962_221  \\\n",
       "192                     0                     0                     0   \n",
       "305                     1                     0                     0   \n",
       "734                     0                     0                     0   \n",
       "706                     0                     0                     0   \n",
       "551                     0                     0                     0   \n",
       "\n",
       "     location_id_4962_442  source_CARS  source_FACEBOOK  source_GOOGLE_PLACES  \\\n",
       "192                     1            0                0                     1   \n",
       "305                     0            0                1                     0   \n",
       "734                     1            0                0                     1   \n",
       "706                     1            0                0                     1   \n",
       "551                     1            0                0                     1   \n",
       "\n",
       "     mon_1  mon_10  mon_11  mon_12  mon_2  mon_3  mon_4  mon_5  mon_6  mon_7  \\\n",
       "192      1       0       0       0      0      0      0      0      0      0   \n",
       "305      0       0       0       0      0      0      0      1      0      0   \n",
       "734      0       0       0       1      0      0      0      0      0      0   \n",
       "706      0       0       0       1      0      0      0      0      0      0   \n",
       "551      0       0       0       0      0      0      0      0      0      0   \n",
       "\n",
       "     mon_8  mon_9  year_14  year_15  year_16  year_17  year_18  \n",
       "192      0      0        0        1        0        0        0  \n",
       "305      0      0        0        1        0        0        0  \n",
       "734      0      0        0        0        0        1        0  \n",
       "706      0      0        0        0        0        1        0  \n",
       "551      1      0        0        0        1        0        0  "
      ]
     },
     "execution_count": 75,
     "metadata": {},
     "output_type": "execute_result"
    }
   ],
   "source": [
    "X_train.head()"
   ]
  },
  {
   "cell_type": "markdown",
   "metadata": {},
   "source": [
    "1. There are total 24 features are in training data set. \n",
    "2. Based on the amount of data, I choose 8:2 as train vs test to be splite.\n",
    "3. All features are 0, 1 binary values as all new built features such as month and year are regarded as categorical feature.\n",
    "4. __NOT Numerical__ for month and year, because I don't think the _order_ of numerical value play a crucial role. If the order introduced, this would be noise."
   ]
  },
  {
   "cell_type": "markdown",
   "metadata": {},
   "source": [
    "### 4.3: Fit Regression Models and Find HyperParameters with Cross Validation"
   ]
  },
  {
   "cell_type": "markdown",
   "metadata": {},
   "source": [
    "## The problem is a regression not classification\n",
    "#### R2 is used for evaluation rather than recall, precision, accuracy for classification"
   ]
  },
  {
   "cell_type": "markdown",
   "metadata": {},
   "source": [
    "### 4.3.1: linear Regression"
   ]
  },
  {
   "cell_type": "code",
   "execution_count": 76,
   "metadata": {
    "scrolled": false
   },
   "outputs": [
    {
     "name": "stdout",
     "output_type": "stream",
     "text": [
      "5.33798145602e+14\n",
      "[ -1.53383605e+14  -1.53383605e+14  -1.53383605e+14  -1.53383605e+14\n",
      "  -1.96267941e+14  -1.96267941e+14  -1.96267941e+14  -2.52863477e+13\n",
      "  -2.52863477e+13  -2.52863477e+13  -2.52863477e+13  -2.52863477e+13\n",
      "  -2.52863477e+13  -2.52863477e+13  -2.52863477e+13  -2.52863477e+13\n",
      "  -2.52863477e+13  -2.52863477e+13  -2.52863477e+13  -1.58860252e+14\n",
      "  -1.58860252e+14  -1.58860252e+14  -1.58860252e+14  -1.58860252e+14]\n"
     ]
    }
   ],
   "source": [
    "from sklearn.metrics import mean_squared_error, r2_score\n",
    "import sklearn.linear_model as skl_lm\n",
    "regr = skl_lm.LinearRegression()\n",
    "regr.fit(X_train, y_train)\n",
    "print(regr.intercept_)\n",
    "print(regr.coef_)"
   ]
  },
  {
   "cell_type": "code",
   "execution_count": 77,
   "metadata": {},
   "outputs": [
    {
     "data": {
      "text/plain": [
       "0.049601632447576094"
      ]
     },
     "execution_count": 77,
     "metadata": {},
     "output_type": "execute_result"
    }
   ],
   "source": [
    "y_pred_te = regr.predict(X_test)\n",
    "r2_score(y_test, y_pred_te)"
   ]
  },
  {
   "cell_type": "markdown",
   "metadata": {},
   "source": [
    "### 4.3.2: Random Forest with Cross Validation"
   ]
  },
  {
   "cell_type": "code",
   "execution_count": 87,
   "metadata": {},
   "outputs": [
    {
     "name": "stdout",
     "output_type": "stream",
     "text": [
      "Accuracy:0.0591559899289,Best parameters:{'max_features': 0.3, 'n_estimators': 48, 'max_depth': 4}, feature importance:[ 0.06834704  0.00366367  0.0360723   0.06379099  0.06172039  0.06415649\n",
      "  0.10734318  0.01920331  0.04522741  0.08010927  0.03255731  0.01865211\n",
      "  0.01094082  0.00943709  0.02140573  0.03704197  0.02664646  0.01866868\n",
      "  0.04367667  0.04277025  0.06444648  0.0173841   0.05858994  0.04814836]\n"
     ]
    }
   ],
   "source": [
    "from sklearn.ensemble import RandomForestRegressor\n",
    "from sklearn.grid_search import GridSearchCV\n",
    "max_depth=[2,3,4]\n",
    "ntrees = [36,48, 60]\n",
    "max_features = [0.1, 0.2, 0.3]\n",
    "parameters = {\"max_depth\":max_depth, \"n_estimators\":ntrees,\"max_features\":max_features}\n",
    "model =  RandomForestRegressor(max_depth=10, n_estimators=20, max_features=\"sqrt\")\n",
    "rfr = GridSearchCV(model, parameters, cv = 5)\n",
    "rfr.fit(X_train, y_train.reshape(-1, 1))\n",
    "score = rfr.score(X_test, y_test)\n",
    "print(\"Accuracy:{},Best parameters:{}, feature importance:{}\".format(score,rfr.best_params_,rfr.best_estimator_.feature_importances_))"
   ]
  },
  {
   "cell_type": "markdown",
   "metadata": {},
   "source": [
    "### 4.3.3: KNN with Cross Validation"
   ]
  },
  {
   "cell_type": "code",
   "execution_count": 79,
   "metadata": {},
   "outputs": [
    {
     "name": "stdout",
     "output_type": "stream",
     "text": [
      "Fitting 5 folds for each of 3 candidates, totalling 15 fits\n",
      "Accuracy:0.00663603699122,Best parameters:{'n_neighbors': 10}\n"
     ]
    },
    {
     "name": "stderr",
     "output_type": "stream",
     "text": [
      "[Parallel(n_jobs=1)]: Done  15 out of  15 | elapsed:    0.0s finished\n"
     ]
    }
   ],
   "source": [
    "from sklearn.neighbors import KNeighborsRegressor\n",
    "parameters = {\"n_neighbors\":[5,10,15]}\n",
    "model =  KNeighborsRegressor()\n",
    "knnr = GridSearchCV(model, parameters, cv = 5, verbose=1)\n",
    "knnr.fit(X_train, y_train)\n",
    "score = knnr.score(X_test, y_test)\n",
    "print(\"Accuracy:{},Best parameters:{}\".format(score,knnr.best_params_,))"
   ]
  },
  {
   "cell_type": "markdown",
   "metadata": {},
   "source": [
    "### 4.3.4: Ridge Regression with Cross Validation"
   ]
  },
  {
   "cell_type": "code",
   "execution_count": 80,
   "metadata": {},
   "outputs": [
    {
     "name": "stdout",
     "output_type": "stream",
     "text": [
      "Accuracy:0.0445764786915,Best parameters:{'alpha': 30}\n"
     ]
    }
   ],
   "source": [
    "from sklearn.linear_model import Ridge\n",
    "parameters={\"alpha\": [30, 28, 25,10,4,2,1.0,0.8,0.5,0.3,0.2,0.1,0.05,0.02,0.01]}\n",
    "model = Ridge()\n",
    "rr = GridSearchCV(model, parameters, cv = 5)\n",
    "rr.fit(X_train, y_train)\n",
    "score = rr.score(X_test, y_test)\n",
    "print(\"Accuracy:{},Best parameters:{}\".format(score,rr.best_params_,))"
   ]
  },
  {
   "cell_type": "markdown",
   "metadata": {},
   "source": [
    "### 4.4: Feature Important from Random Forest"
   ]
  },
  {
   "cell_type": "code",
   "execution_count": 88,
   "metadata": {},
   "outputs": [
    {
     "name": "stdout",
     "output_type": "stream",
     "text": [
      "Feature importance ranking by Random Forest Model:\n",
      "source_GOOGLE_PLACES: 0.1073\n",
      "mon_11: 0.0801\n",
      "location_id_4962_147: 0.0683\n",
      "year_15: 0.0644\n",
      "source_FACEBOOK: 0.0642\n",
      "location_id_4962_442: 0.0638\n",
      "source_CARS: 0.0617\n",
      "year_17: 0.0586\n",
      "year_18: 0.0481\n",
      "mon_10: 0.0452\n",
      "mon_9: 0.0437\n",
      "year_14: 0.0428\n",
      "mon_6: 0.037\n",
      "location_id_4962_221: 0.0361\n",
      "mon_12: 0.0326\n",
      "mon_7: 0.0266\n",
      "mon_5: 0.0214\n",
      "mon_1: 0.0192\n",
      "mon_8: 0.0187\n",
      "mon_2: 0.0187\n",
      "year_16: 0.0174\n",
      "mon_3: 0.0109\n",
      "mon_4: 0.0094\n",
      "location_id_4962_185: 0.0037\n"
     ]
    }
   ],
   "source": [
    "importances = rfr.best_estimator_.feature_importances_\n",
    "# Print the feature ranking\n",
    "print(\"Feature importance ranking by Random Forest Model:\")\n",
    "for k,v in sorted(zip(map(lambda x: round(x, 4), importances), trainX.columns), reverse=True):\n",
    "    print v + \": \" + str(k)"
   ]
  },
  {
   "cell_type": "markdown",
   "metadata": {},
   "source": [
    "### 4.5: Conclusion for Model Selection"
   ]
  },
  {
   "cell_type": "markdown",
   "metadata": {},
   "source": [
    "1. First of all, this is a regression model, thus, linear regression, knn, randomforest regressor and ridge regression are selected.\n",
    "2. The __evalution__ is r2_score as the default of GridSearchCV and Random Forest has the best value with selected hyperparameters.\n",
    "3. Random Forest is a stable model can discovery nonlinearity compared with linear regression. __\"Random\"__ is the best description of it, which have a steady property and not consume too much time to calculate. Apparently, it is my final model. But in this case, The independent variables are too limited to use them as important features. Normally, Random Forest has the most stable predictions, but when you run multiple times for this dataset, the result various.\n",
    "4. Acutally, none of the model is stable. Linear Regression can't grab the nonlinearity property in data, KNN performs bad, Ridge Regression with Penality is OK and stable but not great since Random Forest can give better evaluations."
   ]
  },
  {
   "cell_type": "markdown",
   "metadata": {},
   "source": [
    "### 4.6: Fill Test Review Table"
   ]
  },
  {
   "cell_type": "code",
   "execution_count": 92,
   "metadata": {
    "scrolled": true
   },
   "outputs": [
    {
     "data": {
      "text/html": [
       "<div>\n",
       "<style>\n",
       "    .dataframe thead tr:only-child th {\n",
       "        text-align: right;\n",
       "    }\n",
       "\n",
       "    .dataframe thead th {\n",
       "        text-align: left;\n",
       "    }\n",
       "\n",
       "    .dataframe tbody tr th {\n",
       "        vertical-align: top;\n",
       "    }\n",
       "</style>\n",
       "<table border=\"1\" class=\"dataframe\">\n",
       "  <thead>\n",
       "    <tr style=\"text-align: right;\">\n",
       "      <th></th>\n",
       "      <th>location_id</th>\n",
       "      <th>source</th>\n",
       "      <th>mon</th>\n",
       "      <th>year</th>\n",
       "    </tr>\n",
       "  </thead>\n",
       "  <tbody>\n",
       "    <tr>\n",
       "      <th>0</th>\n",
       "      <td>4962_147</td>\n",
       "      <td>FACEBOOK</td>\n",
       "      <td>12</td>\n",
       "      <td>15</td>\n",
       "    </tr>\n",
       "    <tr>\n",
       "      <th>1</th>\n",
       "      <td>4962_147</td>\n",
       "      <td>FACEBOOK</td>\n",
       "      <td>11</td>\n",
       "      <td>16</td>\n",
       "    </tr>\n",
       "    <tr>\n",
       "      <th>2</th>\n",
       "      <td>4962_185</td>\n",
       "      <td>GOOGLE_PLACES</td>\n",
       "      <td>8</td>\n",
       "      <td>16</td>\n",
       "    </tr>\n",
       "    <tr>\n",
       "      <th>3</th>\n",
       "      <td>4962_185</td>\n",
       "      <td>GOOGLE_PLACES</td>\n",
       "      <td>2</td>\n",
       "      <td>18</td>\n",
       "    </tr>\n",
       "    <tr>\n",
       "      <th>4</th>\n",
       "      <td>4962_185</td>\n",
       "      <td>GOOGLE_PLACES</td>\n",
       "      <td>2</td>\n",
       "      <td>16</td>\n",
       "    </tr>\n",
       "  </tbody>\n",
       "</table>\n",
       "</div>"
      ],
      "text/plain": [
       "  location_id         source mon year\n",
       "0    4962_147       FACEBOOK  12   15\n",
       "1    4962_147       FACEBOOK  11   16\n",
       "2    4962_185  GOOGLE_PLACES   8   16\n",
       "3    4962_185  GOOGLE_PLACES   2   18\n",
       "4    4962_185  GOOGLE_PLACES   2   16"
      ]
     },
     "execution_count": 92,
     "metadata": {},
     "output_type": "execute_result"
    }
   ],
   "source": [
    "# Make features consistent with the training data set\n",
    "test_review = test.reset_index()\n",
    "te_mon = []\n",
    "te_year = []\n",
    "for i in xrange(len(test)):\n",
    "    te_mon.append(str(test_review.loc[i][4]).split(\"/\")[0])\n",
    "    te_year.append(str(test_review.loc[i][4]).split(\"/\")[2])\n",
    "test_review[\"mon\"] = te_mon\n",
    "test_review[\"year\"] = te_year\n",
    "test_review = test_review.drop([\"date\", \"index\", \"review_id\", \"rating\"], axis = 1)\n",
    "test_review.head()"
   ]
  },
  {
   "cell_type": "code",
   "execution_count": 93,
   "metadata": {},
   "outputs": [
    {
     "data": {
      "text/plain": [
       "array([ 3.98711662,  3.69562019,  4.44837984, ...,  3.89902805,\n",
       "        3.77026317,  3.71239521])"
      ]
     },
     "execution_count": 93,
     "metadata": {},
     "output_type": "execute_result"
    }
   ],
   "source": [
    "test_review = pd.get_dummies(test_review)\n",
    "test_rf_predict = rfr.predict(test_review)\n",
    "test_rf_predict"
   ]
  },
  {
   "cell_type": "code",
   "execution_count": 94,
   "metadata": {
    "collapsed": true
   },
   "outputs": [],
   "source": [
    "test[\"rating\"] = test_rf_predict"
   ]
  },
  {
   "cell_type": "code",
   "execution_count": 95,
   "metadata": {},
   "outputs": [
    {
     "data": {
      "text/html": [
       "<div>\n",
       "<style>\n",
       "    .dataframe thead tr:only-child th {\n",
       "        text-align: right;\n",
       "    }\n",
       "\n",
       "    .dataframe thead th {\n",
       "        text-align: left;\n",
       "    }\n",
       "\n",
       "    .dataframe tbody tr th {\n",
       "        vertical-align: top;\n",
       "    }\n",
       "</style>\n",
       "<table border=\"1\" class=\"dataframe\">\n",
       "  <thead>\n",
       "    <tr style=\"text-align: right;\">\n",
       "      <th></th>\n",
       "      <th>location_id</th>\n",
       "      <th>review_id</th>\n",
       "      <th>source</th>\n",
       "      <th>date</th>\n",
       "      <th>rating</th>\n",
       "    </tr>\n",
       "  </thead>\n",
       "  <tbody>\n",
       "    <tr>\n",
       "      <th>0</th>\n",
       "      <td>4962_147</td>\n",
       "      <td>test_10368849285</td>\n",
       "      <td>FACEBOOK</td>\n",
       "      <td>12/4/15</td>\n",
       "      <td>3.987117</td>\n",
       "    </tr>\n",
       "    <tr>\n",
       "      <th>1</th>\n",
       "      <td>4962_147</td>\n",
       "      <td>test_1042394214</td>\n",
       "      <td>FACEBOOK</td>\n",
       "      <td>11/29/16</td>\n",
       "      <td>3.695620</td>\n",
       "    </tr>\n",
       "    <tr>\n",
       "      <th>2</th>\n",
       "      <td>4962_185</td>\n",
       "      <td>test_11322162891</td>\n",
       "      <td>GOOGLE_PLACES</td>\n",
       "      <td>8/3/16</td>\n",
       "      <td>4.448380</td>\n",
       "    </tr>\n",
       "    <tr>\n",
       "      <th>3</th>\n",
       "      <td>4962_185</td>\n",
       "      <td>test_11324660949</td>\n",
       "      <td>GOOGLE_PLACES</td>\n",
       "      <td>2/3/18</td>\n",
       "      <td>4.521121</td>\n",
       "    </tr>\n",
       "    <tr>\n",
       "      <th>4</th>\n",
       "      <td>4962_185</td>\n",
       "      <td>test_11348252095</td>\n",
       "      <td>GOOGLE_PLACES</td>\n",
       "      <td>2/12/16</td>\n",
       "      <td>4.480297</td>\n",
       "    </tr>\n",
       "  </tbody>\n",
       "</table>\n",
       "</div>"
      ],
      "text/plain": [
       "  location_id         review_id         source      date    rating\n",
       "0    4962_147  test_10368849285       FACEBOOK   12/4/15  3.987117\n",
       "1    4962_147   test_1042394214       FACEBOOK  11/29/16  3.695620\n",
       "2    4962_185  test_11322162891  GOOGLE_PLACES    8/3/16  4.448380\n",
       "3    4962_185  test_11324660949  GOOGLE_PLACES    2/3/18  4.521121\n",
       "4    4962_185  test_11348252095  GOOGLE_PLACES   2/12/16  4.480297"
      ]
     },
     "execution_count": 95,
     "metadata": {},
     "output_type": "execute_result"
    }
   ],
   "source": [
    "test.head()"
   ]
  },
  {
   "cell_type": "markdown",
   "metadata": {},
   "source": [
    "#### The result looks good"
   ]
  }
 ],
 "metadata": {
  "kernelspec": {
   "display_name": "Python 3",
   "language": "python",
   "name": "python3"
  },
  "language_info": {
   "codemirror_mode": {
    "name": "ipython",
    "version": 3
   },
   "file_extension": ".py",
   "mimetype": "text/x-python",
   "name": "python",
   "nbconvert_exporter": "python",
   "pygments_lexer": "ipython3",
   "version": "3.7.4"
  }
 },
 "nbformat": 4,
 "nbformat_minor": 2
}
